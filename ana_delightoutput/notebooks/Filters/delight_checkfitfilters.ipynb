{
 "cells": [
  {
   "cell_type": "markdown",
   "metadata": {},
   "source": [
    "# Check Gaussian Fit of Filter transmission\n",
    "\n",
    "\n",
    "- author : Sylvie Dagoret-Campagne\n",
    "- affiliation : IJCLab/IN2P3/CNES, DESC-LSST fullmember, behalf AuxTel Teal VERA C. Rubin observatory\n",
    "- Creation date : February 28th 2021\n",
    "- update : May 2021\n",
    "- update : October 23th 2021\n",
    "- **CC : kernel anaconda3pbspzrail**\n",
    "\n",
    "- **NERSC : use kernel desc-python (desc-python environnement cloned and extended by the user)**\n",
    "\n",
    "- last verification : January 6th 2022\n",
    "\n",
    "\n",
    "**Purpose is to view the Gaussian Mixture decomposition of filter transmission**"
   ]
  },
  {
   "cell_type": "code",
   "execution_count": 1,
   "metadata": {},
   "outputs": [],
   "source": [
    "%matplotlib inline\n",
    "import numpy as np\n",
    "import matplotlib.pyplot as plt\n",
    "%matplotlib inline\n",
    "import scipy.stats\n",
    "import sys\n",
    "import os\n",
    "sys.path.append('../')\n",
    "from delight.io import *\n",
    "from delight.utils import *\n",
    "from delight.photoz_gp import PhotozGP"
   ]
  },
  {
   "cell_type": "code",
   "execution_count": 2,
   "metadata": {},
   "outputs": [
    {
     "name": "stdout",
     "output_type": "stream",
     "text": [
      "/global/homes/d/dagoret/mydesc/mydesc/bin/python\n",
      "3.8.12 | packaged by conda-forge | (default, Oct 12 2021, 21:59:51) \n",
      "[GCC 9.4.0]\n"
     ]
    }
   ],
   "source": [
    "print(sys.executable)\n",
    "print(sys.version)\n",
    "#print(sys.version_info)"
   ]
  },
  {
   "cell_type": "code",
   "execution_count": 3,
   "metadata": {},
   "outputs": [],
   "source": [
    "plt.rcParams[\"figure.figsize\"] = (12,6)\n",
    "plt.rcParams[\"axes.labelsize\"] = 'xx-large'\n",
    "plt.rcParams['axes.titlesize'] = 'xx-large'\n",
    "plt.rcParams['xtick.labelsize']= 'xx-large'\n",
    "plt.rcParams['ytick.labelsize']= 'xx-large'"
   ]
  },
  {
   "cell_type": "code",
   "execution_count": 4,
   "metadata": {},
   "outputs": [
    {
     "name": "stdout",
     "output_type": "stream",
     "text": [
      "/global/homes/d/dagoret/mydesc/mydesc/bin/python\n",
      "3.8.12 | packaged by conda-forge | (default, Oct 12 2021, 21:59:51) \n",
      "[GCC 9.4.0]\n"
     ]
    }
   ],
   "source": [
    "import sys\n",
    "print(sys.executable)\n",
    "print(sys.version)\n",
    "#print(sys.version_info)"
   ]
  },
  {
   "cell_type": "code",
   "execution_count": 5,
   "metadata": {},
   "outputs": [],
   "source": [
    "import configparser"
   ]
  },
  {
   "cell_type": "code",
   "execution_count": 6,
   "metadata": {},
   "outputs": [
    {
     "name": "stdout",
     "output_type": "stream",
     "text": [
      "delight_data\t       parametersTest_15.cfg  parametersTest_3.cfg\n",
      "parametersTest.cfg     parametersTest_16.cfg  parametersTest_4.cfg\n",
      "parametersTest_1.cfg   parametersTest_17.cfg  parametersTest_5.cfg\n",
      "parametersTest_10.cfg  parametersTest_18.cfg  parametersTest_6.cfg\n",
      "parametersTest_11.cfg  parametersTest_19.cfg  parametersTest_7.cfg\n",
      "parametersTest_12.cfg  parametersTest_2.cfg   parametersTest_8.cfg\n",
      "parametersTest_13.cfg  parametersTest_20.cfg  parametersTest_9.cfg\n",
      "parametersTest_14.cfg  parametersTest_21.cfg\n"
     ]
    }
   ],
   "source": [
    "! ls tmp"
   ]
  },
  {
   "cell_type": "markdown",
   "metadata": {},
   "source": [
    "## Defines file location"
   ]
  },
  {
   "cell_type": "code",
   "execution_count": 7,
   "metadata": {},
   "outputs": [],
   "source": [
    "#basedelight_datapath = resource_filename('delight', '../data')\n",
    "#basedelight_datapath = \"../tmp/delight_indata\"\n",
    "basedelight_datapath = \"../../rail/estimation/data\""
   ]
  },
  {
   "cell_type": "code",
   "execution_count": 8,
   "metadata": {},
   "outputs": [],
   "source": [
    "filename_config=\"tmp/parametersTest.cfg\""
   ]
  },
  {
   "cell_type": "code",
   "execution_count": 9,
   "metadata": {},
   "outputs": [],
   "source": [
    "#dir_filter=\"./data/FILTERS\"\n",
    "#dir_filter = os.path.join(basedelight_datapath,\"FILTERS\")\n",
    "dir_filter = os.path.join(basedelight_datapath,\"FILTER\")"
   ]
  },
  {
   "cell_type": "code",
   "execution_count": 10,
   "metadata": {},
   "outputs": [],
   "source": [
    "#filename_filters = [\"lsst_u.res\",\"lsst_g.res\",\"lsst_r.res\",\"lsst_i.res\",\"lsst_z.res\",\"lsst_y.res\"]\n",
    "#filename_fitfilters = [\"lsst_u_gaussian_coefficients.txt\", \"lsst_g_gaussian_coefficients.txt\",\n",
    "#             \"lsst_r_gaussian_coefficients.txt\",\"lsst_i_gaussian_coefficients.txt\",\n",
    "#            \"lsst_z_gaussian_coefficients.txt\", \"lsst_y_gaussian_coefficients.txt\"]"
   ]
  },
  {
   "cell_type": "code",
   "execution_count": 11,
   "metadata": {},
   "outputs": [],
   "source": [
    "filename_filters =[\"DC2LSST_u.res\",\"DC2LSST_g.res\",\"DC2LSST_r.res\",\"DC2LSST_i.res\",\"DC2LSST_z.res\",\"DC2LSST_y.res\"]"
   ]
  },
  {
   "cell_type": "code",
   "execution_count": 12,
   "metadata": {},
   "outputs": [],
   "source": [
    "filename_fitfilters = [\"DC2LSST_u_gaussian_coefficients.txt\", \"DC2LSST_g_gaussian_coefficients.txt\",\n",
    "             \"DC2LSST_r_gaussian_coefficients.txt\",\"DC2LSST_i_gaussian_coefficients.txt\",\n",
    "            \"DC2LSST_z_gaussian_coefficients.txt\", \"DC2LSST_y_gaussian_coefficients.txt\"]"
   ]
  },
  {
   "cell_type": "markdown",
   "metadata": {},
   "source": [
    "## Decode parameter file"
   ]
  },
  {
   "cell_type": "code",
   "execution_count": 13,
   "metadata": {},
   "outputs": [
    {
     "data": {
      "text/plain": [
       "['Bands', 'Templates', 'Simulation', 'Training', 'Target', 'Other']"
      ]
     },
     "execution_count": 13,
     "metadata": {},
     "output_type": "execute_result"
    }
   ],
   "source": [
    "config = configparser.ConfigParser()\n",
    "if not os.path.isfile(filename_config):\n",
    "    raise Exception(filename_config +' : file not found')\n",
    "config.read(filename_config)\n",
    "config.sections()"
   ]
  },
  {
   "cell_type": "code",
   "execution_count": 14,
   "metadata": {},
   "outputs": [],
   "source": [
    "numCoefs  = int(config[\"Bands\"][\"numCoefs\"])\n",
    "bandNames = config[\"Bands\"]['names']\n",
    "bandColors = [\"b\",\"g\",\"r\",\"orange\",\"grey\",\"k\"]\n",
    "#filter_dir = config [\"Bands\"]['bands_directory']"
   ]
  },
  {
   "cell_type": "code",
   "execution_count": 15,
   "metadata": {},
   "outputs": [],
   "source": [
    "band_names=bandNames.split(\" \")"
   ]
  },
  {
   "cell_type": "code",
   "execution_count": 16,
   "metadata": {},
   "outputs": [],
   "source": [
    "Nbands=len(band_names)"
   ]
  },
  {
   "cell_type": "markdown",
   "metadata": {},
   "source": [
    "## Plot filters and fitted filter transmission"
   ]
  },
  {
   "cell_type": "code",
   "execution_count": 17,
   "metadata": {},
   "outputs": [
    {
     "name": "stdout",
     "output_type": "stream",
     "text": [
      "DC2LSST_g.res\t\t\t     DC2LSST_u.res\n",
      "DC2LSST_g_gaussian_coefficients.txt  DC2LSST_u_gaussian_coefficients.txt\n",
      "DC2LSST_i.res\t\t\t     DC2LSST_y.res\n",
      "DC2LSST_i_gaussian_coefficients.txt  DC2LSST_y_gaussian_coefficients.txt\n",
      "DC2LSST_r.res\t\t\t     DC2LSST_z.res\n",
      "DC2LSST_r_gaussian_coefficients.txt  DC2LSST_z_gaussian_coefficients.txt\n"
     ]
    }
   ],
   "source": [
    "! ls $dir_filter"
   ]
  },
  {
   "cell_type": "code",
   "execution_count": 18,
   "metadata": {},
   "outputs": [
    {
     "name": "stdout",
     "output_type": "stream",
     "text": [
      "../../rail/estimation/data/FILTER/DC2LSST_u.res\n"
     ]
    },
    {
     "name": "stderr",
     "output_type": "stream",
     "text": [
      "No handles with labels found to put in legend.\n"
     ]
    },
    {
     "name": "stdout",
     "output_type": "stream",
     "text": [
      "../../rail/estimation/data/FILTER/DC2LSST_g.res\n"
     ]
    },
    {
     "name": "stderr",
     "output_type": "stream",
     "text": [
      "No handles with labels found to put in legend.\n",
      "No handles with labels found to put in legend.\n",
      "No handles with labels found to put in legend.\n",
      "No handles with labels found to put in legend.\n"
     ]
    },
    {
     "name": "stdout",
     "output_type": "stream",
     "text": [
      "../../rail/estimation/data/FILTER/DC2LSST_r.res\n",
      "../../rail/estimation/data/FILTER/DC2LSST_i.res\n",
      "../../rail/estimation/data/FILTER/DC2LSST_z.res\n",
      "../../rail/estimation/data/FILTER/DC2LSST_y.res\n"
     ]
    },
    {
     "data": {
      "image/png": "[encoded data removed]",
      "text/plain": [
       "<Figure size 864x432 with 1 Axes>"
      ]
     },
     "metadata": {
      "needs_background": "light"
     },
     "output_type": "display_data"
    }
   ],
   "source": [
    "plt.figure(figsize=(12,6))\n",
    "for idx_filter in np.arange(Nbands):\n",
    "    \n",
    "    # read coefficients of fits\n",
    "    full_filename_fitfilter=os.path.join(dir_filter,filename_fitfilters[idx_filter])\n",
    "    coefs=np.loadtxt(full_filename_fitfilter)\n",
    "    \n",
    "    # read filters\n",
    "    full_filename_filter=os.path.join(dir_filter,filename_filters[idx_filter])\n",
    "    print(full_filename_filter)\n",
    "    data = np.genfromtxt(full_filename_filter)\n",
    "    \n",
    "    x, y = data[:, 0], data[:, 1]\n",
    "    #y /= x  # divide by lambda\n",
    "    # Only consider range where >1% max\n",
    "    ind = np.where(y > 0.01*np.max(y))[0]\n",
    "    lambdaMin, lambdaMax = x[ind[0]], x[ind[-1]]\n",
    "    \n",
    "    xf = np.linspace(lambdaMin, lambdaMax, num=1000)\n",
    "    yy = 0*xf\n",
    "    for i in range(numCoefs):\n",
    "        yy += coefs[i, 0] * np.exp(-0.5*((coefs[i, 1] - xf)/coefs[i, 2])**2.0)\n",
    "    if idx_filter==5:    \n",
    "        plt.plot(x,y,\"-\",color=bandColors[idx_filter],label=\"original filter transmission\")\n",
    "        plt.plot(xf,yy,\"-.\",color=bandColors[idx_filter],label='gaussian mixture fit')\n",
    "    else:\n",
    "        plt.plot(x,y,\"-\",color=bandColors[idx_filter])\n",
    "        plt.plot(xf,yy,\"-.\",color=bandColors[idx_filter])\n",
    "    plt.xlabel(\"$\\lambda$ (nm)\")\n",
    "    plt.ylabel(\"transmission\")\n",
    "    plt.title(\"LSST filter bands \")\n",
    "    plt.legend(loc=\"upper right\")"
   ]
  },
  {
   "cell_type": "code",
   "execution_count": null,
   "metadata": {},
   "outputs": [],
   "source": []
  }
 ],
 "metadata": {
  "kernelspec": {
   "display_name": "desc-python",
   "language": "python",
   "name": "desc-python"
  },
  "language_info": {
   "codemirror_mode": {
    "name": "ipython",
    "version": 3
   },
   "file_extension": ".py",
   "mimetype": "text/x-python",
   "name": "python",
   "nbconvert_exporter": "python",
   "pygments_lexer": "ipython3",
   "version": "3.8.12"
  },
  "toc": {
   "base_numbering": 1,
   "nav_menu": {},
   "number_sections": true,
   "sideBar": true,
   "skip_h1_title": false,
   "title_cell": "Table of Contents",
   "title_sidebar": "Contents",
   "toc_cell": false,
   "toc_position": {},
   "toc_section_display": true,
   "toc_window_display": false
  }
 },
 "nbformat": 4,
 "nbformat_minor": 4
}
