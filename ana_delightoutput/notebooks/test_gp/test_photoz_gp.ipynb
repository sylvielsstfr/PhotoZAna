{
 "cells": [
  {
   "cell_type": "markdown",
   "id": "9e09f035",
   "metadata": {},
   "source": [
    "# Test Photoz_gp"
   ]
  },
  {
   "cell_type": "code",
   "execution_count": 1,
   "id": "16a94fc9",
   "metadata": {},
   "outputs": [],
   "source": [
    "import pytest\n",
    "import numpy as np\n",
    "from scipy.interpolate import interp1d\n",
    "\n",
    "from delight.photoz_gp import PhotozGP\n",
    "from delight.photoz_kernels import Photoz_mean_function, Photoz_kernel\n",
    "from delight.utils import *"
   ]
  },
  {
   "cell_type": "code",
   "execution_count": 2,
   "id": "2107db21",
   "metadata": {},
   "outputs": [],
   "source": [
    "NREPEAT = 1\n",
    "nObj = 5\n",
    "nObjGP = 3\n",
    "nObjUnfixed = 4\n",
    "numBands = 2\n",
    "numLines = 3\n",
    "numCoefs = 8\n",
    "numTemplates = 4\n",
    "numZ = 10\n",
    "relative_accuracy = 0.50\n",
    "size = numBands * nObj\n",
    "bandsUsed = range(numBands)"
   ]
  },
  {
   "cell_type": "code",
   "execution_count": 3,
   "id": "63ffbf92",
   "metadata": {},
   "outputs": [],
   "source": [
    "X = random_X_bzl(nObj, numBands=numBands)\n",
    "bands, redshifts, luminosities = np.split(X, 3, axis=1)\n",
    "fcoefs_amp, fcoefs_mu, fcoefs_sig \\\n",
    "    = random_filtercoefs(numBands, numCoefs)\n",
    "lines_mu, lines_sig = random_linecoefs(numLines)\n",
    "var_C, var_L, alpha_C, alpha_L, alpha_T = random_hyperparams()\n",
    "Y = np.random.uniform(low=0.5, high=1., size=nObj)[:, None]\n",
    "Yvar = np.random.uniform(low=0.05, high=0.1, size=nObj)[:, None]\n"
   ]
  },
  {
   "cell_type": "code",
   "execution_count": 4,
   "id": "7b5382e3",
   "metadata": {},
   "outputs": [],
   "source": [
    "@pytest.fixture(params=[True, False])\n",
    "def use_interpolators(request):\n",
    "    return request.param"
   ]
  },
  {
   "cell_type": "code",
   "execution_count": 5,
   "id": "378973d5",
   "metadata": {},
   "outputs": [],
   "source": [
    "def test_create_gp(use_interpolators):\n",
    "    \"\"\"Create valid GP with reasonable parameters, kernel, mean fct\"\"\"\n",
    "\n",
    "    redshiftGrid = np.logspace(-2, np.log10(4), num=numZ)\n",
    "    f_mod_interp = np.zeros((numTemplates, numBands), dtype=object)\n",
    "    for it in range(numTemplates):\n",
    "        for jf in range(numBands):\n",
    "            data = np.random.randn(numZ)\n",
    "            f_mod_interp[it, jf] = interp1d(redshiftGrid, data,\n",
    "                                            kind='linear', bounds_error=False,\n",
    "                                            fill_value='extrapolate')\n",
    "    gp = PhotozGP(\n",
    "        f_mod_interp,\n",
    "        fcoefs_amp, fcoefs_mu, fcoefs_sig,\n",
    "        lines_mu, lines_sig,\n",
    "        var_C, var_L, alpha_C, alpha_L,\n",
    "        redshiftGrid,\n",
    "        use_interpolators=use_interpolators\n",
    "        )\n",
    "    gp.setData(X, Y, Yvar, np.random.randint(numTemplates))\n",
    "\n",
    "    if use_interpolators is False:\n",
    "        gp.optimizeHyperparamaters()\n",
    "\n",
    "    return gp\n"
   ]
  },
  {
   "cell_type": "code",
   "execution_count": 6,
   "id": "12501fda",
   "metadata": {},
   "outputs": [
    {
     "data": {
      "text/plain": [
       "<delight.photoz_gp.PhotozGP at 0x7f54b451fe20>"
      ]
     },
     "execution_count": 6,
     "metadata": {},
     "output_type": "execute_result"
    }
   ],
   "source": [
    "\n",
    "test_create_gp(True)\n",
    "\n",
    "\n",
    "\n",
    "\n",
    "\n",
    "\n"
   ]
  },
  {
   "cell_type": "code",
   "execution_count": null,
   "id": "65c9f454",
   "metadata": {},
   "outputs": [],
   "source": [
    "test_create_gp(T)"
   ]
  }
 ],
 "metadata": {
  "kernelspec": {
   "display_name": "anaconda3pbs",
   "language": "python",
   "name": "anaconda3_pbs"
  },
  "language_info": {
   "codemirror_mode": {
    "name": "ipython",
    "version": 3
   },
   "file_extension": ".py",
   "mimetype": "text/x-python",
   "name": "python",
   "nbconvert_exporter": "python",
   "pygments_lexer": "ipython3",
   "version": "3.8.8"
  }
 },
 "nbformat": 4,
 "nbformat_minor": 5
}
