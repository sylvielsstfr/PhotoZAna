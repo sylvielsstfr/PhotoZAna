{
 "cells": [
  {
   "cell_type": "markdown",
   "id": "c7ffa2c7",
   "metadata": {},
   "source": [
    "# Test Delight Learn "
   ]
  },
  {
   "cell_type": "markdown",
   "id": "7ee57077",
   "metadata": {},
   "source": [
    "- author : Sylvie Dagoret-Campagne\n",
    "- affiliation : IJCLab/IN2P3/CNRS\n",
    "- creation date : June  18th 2021"
   ]
  },
  {
   "cell_type": "code",
   "execution_count": 1,
   "id": "767b4b1d",
   "metadata": {},
   "outputs": [],
   "source": [
    "%matplotlib inline\n",
    "import numpy as np\n",
    "import matplotlib.pyplot as plt\n",
    "import scipy.stats\n",
    "import sys\n",
    "sys.path.append('../')\n",
    "from delight.io import *\n",
    "from delight.utils import *\n",
    "from delight.photoz_gp import PhotozGP"
   ]
  },
  {
   "cell_type": "code",
   "execution_count": 2,
   "id": "00a635a3",
   "metadata": {},
   "outputs": [],
   "source": [
    "from matplotlib.colors import LogNorm"
   ]
  },
  {
   "cell_type": "code",
   "execution_count": 3,
   "id": "93be56bf",
   "metadata": {},
   "outputs": [],
   "source": [
    "from mpi4py import MPI\n",
    "from delight.photoz_kernels import Photoz_mean_function, Photoz_kernel"
   ]
  },
  {
   "cell_type": "code",
   "execution_count": 4,
   "id": "4206fc2e",
   "metadata": {},
   "outputs": [],
   "source": [
    "logger = logging.getLogger(__name__)\n",
    "coloredlogs.install(level='DEBUG', logger=logger,fmt='%(asctime)s,%(msecs)03d %(programname)s, %(name)s[%(process)d] %(levelname)s %(message)s')"
   ]
  },
  {
   "cell_type": "code",
   "execution_count": 5,
   "id": "c28a1eaf",
   "metadata": {},
   "outputs": [],
   "source": [
    "plt.rcParams[\"figure.figsize\"] = (6,4)\n",
    "plt.rcParams[\"axes.labelsize\"] = 'xx-large'\n",
    "plt.rcParams['axes.titlesize'] = 'xx-large'\n",
    "plt.rcParams['xtick.labelsize']= 'xx-large'\n",
    "plt.rcParams['ytick.labelsize']= 'xx-large'"
   ]
  },
  {
   "cell_type": "markdown",
   "id": "3aa66367",
   "metadata": {},
   "source": [
    "# Configuration\n",
    "\n",
    "- select if want to control Delight internal simulation or DC2"
   ]
  },
  {
   "cell_type": "code",
   "execution_count": 6,
   "id": "ca9e5928",
   "metadata": {},
   "outputs": [],
   "source": [
    "FLAG_DC2=True"
   ]
  },
  {
   "cell_type": "code",
   "execution_count": null,
   "id": "cb3e2cdb",
   "metadata": {},
   "outputs": [],
   "source": []
  },
  {
   "cell_type": "code",
   "execution_count": 7,
   "id": "cfef7a45",
   "metadata": {},
   "outputs": [],
   "source": [
    "if FLAG_DC2:\n",
    "    configfilename='tmp/parametersTest.cfg'\n",
    "    flux_multiplicative_factor=1.\n",
    "    flux_multiplicative_factor2=1.\n",
    "    flux_multiplicative_factor=0.45e-10 # factor such if it multiplies data flux in sim gives true data flux\n",
    "    flux_multiplicative_factor2=0.45e-4 # factor such if it is multiplied to models it gives true data flux level\n",
    "else:\n",
    "    configfilename='tmpsim/parametersTest.cfg'\n",
    "    flux_multiplicative_factor=0.45e-10 # factor such if it multiplies data flux in sim gives true data flux\n",
    "    flux_multiplicative_factor2=0.45e-4 # factor such if it is multiplied to models it gives true data flux level"
   ]
  },
  {
   "cell_type": "markdown",
   "id": "2fdda616",
   "metadata": {},
   "source": [
    "# Load config and data"
   ]
  },
  {
   "cell_type": "code",
   "execution_count": 8,
   "id": "753400d9",
   "metadata": {},
   "outputs": [
    {
     "name": "stderr",
     "output_type": "stream",
     "text": [
      "2021-06-18 21:56:38,901 ipykernel_launcher.py, __main__[285] INFO --- DELIGHT-LEARN ---\n"
     ]
    }
   ],
   "source": [
    "params = parseParamFile(configfilename, verbose=False)\n",
    "\n",
    "\n",
    "comm = MPI.COMM_WORLD\n",
    "threadNum = comm.Get_rank()\n",
    "numThreads = comm.Get_size()\n",
    "\n",
    "\n",
    "if threadNum == 0:\n",
    "    logger.info(\"--- DELIGHT-LEARN ---\")\n"
   ]
  },
  {
   "cell_type": "code",
   "execution_count": 9,
   "id": "99a3968c",
   "metadata": {},
   "outputs": [],
   "source": [
    "# Read filter coefficients, compute normalization of filters\n",
    "bandCoefAmplitudes, bandCoefPositions, bandCoefWidths, norms = readBandCoefficients(params)\n",
    "numBands = bandCoefAmplitudes.shape[0]\n",
    "\n",
    "redshiftDistGrid, redshiftGrid, redshiftGridGP = createGrids(params)\n",
    "\n",
    "f_mod = readSEDs(params)"
   ]
  },
  {
   "cell_type": "code",
   "execution_count": 10,
   "id": "ecf6e49d",
   "metadata": {},
   "outputs": [
    {
     "data": {
      "text/plain": [
       "6"
      ]
     },
     "execution_count": 10,
     "metadata": {},
     "output_type": "execute_result"
    }
   ],
   "source": [
    "numBands"
   ]
  },
  {
   "cell_type": "code",
   "execution_count": 11,
   "id": "f0d9293d",
   "metadata": {},
   "outputs": [],
   "source": [
    "all_renormmodel=[]\n",
    "all_fluxes=[]"
   ]
  },
  {
   "cell_type": "markdown",
   "id": "44d85a3f",
   "metadata": {},
   "source": [
    "# Learn"
   ]
  },
  {
   "cell_type": "code",
   "execution_count": 12,
   "id": "43b66ec5",
   "metadata": {},
   "outputs": [
    {
     "name": "stderr",
     "output_type": "stream",
     "text": [
      "<ipython-input-12-436ba5cc070e>:1: DeprecationWarning: Calling np.sum(generator) is deprecated, and in the future will give a different result. Use np.sum(np.fromiter(generator)) or the python sum builtin instead.\n",
      "  numObjectsTraining = np.sum(1 for line in open(params['training_catFile']))\n",
      "2021-06-18 21:56:39,139 ipykernel_launcher.py, __main__[285] INFO Number of Training Objects 3755\n",
      "2021-06-18 21:56:39,141 ipykernel_launcher.py, __main__[285] INFO Thread 0 , analyzes lines 0 , to 3755\n"
     ]
    }
   ],
   "source": [
    "numObjectsTraining = np.sum(1 for line in open(params['training_catFile']))\n",
    "\n",
    "msg= 'Number of Training Objects ' + str(numObjectsTraining)\n",
    "logger.info(msg)\n",
    "\n",
    "\n",
    "firstLine = int(threadNum * numObjectsTraining / numThreads)\n",
    "lastLine = int(min(numObjectsTraining,(threadNum + 1) * numObjectsTraining / numThreads))\n",
    "numLines = lastLine - firstLine\n",
    "\n",
    "    \n",
    "msg ='Thread ' +  str(threadNum) + ' , analyzes lines ' + str(firstLine) + ' , to ' + str(lastLine)\n",
    "logger.info(msg)\n",
    "\n",
    "DL = approx_DL()\n"
   ]
  },
  {
   "cell_type": "code",
   "execution_count": 13,
   "id": "37e294ef",
   "metadata": {},
   "outputs": [
    {
     "data": {
      "text/plain": [
       "(8, 6)"
      ]
     },
     "execution_count": 13,
     "metadata": {},
     "output_type": "execute_result"
    }
   ],
   "source": [
    "f_mod.shape"
   ]
  },
  {
   "cell_type": "code",
   "execution_count": 14,
   "id": "95763a66",
   "metadata": {},
   "outputs": [],
   "source": [
    "gp = PhotozGP(f_mod, bandCoefAmplitudes, bandCoefPositions, bandCoefWidths,\n",
    "              params['lines_pos'], params['lines_width'],\n",
    "              params['V_C'], params['V_L'],\n",
    "              params['alpha_C'], params['alpha_L'],\n",
    "              redshiftGridGP, use_interpolators=True)"
   ]
  },
  {
   "cell_type": "code",
   "execution_count": 15,
   "id": "c899e2f1",
   "metadata": {},
   "outputs": [
    {
     "data": {
      "text/plain": [
       "<matplotlib.legend.Legend at 0x7f6c0a342370>"
      ]
     },
     "execution_count": 15,
     "metadata": {},
     "output_type": "execute_result"
    },
    {
     "data": {
      "image/png": "[encoded data removed]",
      "text/plain": [
       "<Figure size 432x288 with 1 Axes>"
      ]
     },
     "metadata": {
      "needs_background": "light"
     },
     "output_type": "display_data"
    }
   ],
   "source": [
    "plt.plot(redshiftGrid,label=\"redshiftGrid\")\n",
    "plt.plot(redshiftGridGP,label=\"redshiftGridGP\")\n",
    "plt.xlabel(\"redshift index\")\n",
    "plt.ylabel(\"redshift\")\n",
    "plt.legend()"
   ]
  },
  {
   "cell_type": "code",
   "execution_count": 16,
   "id": "4781c550",
   "metadata": {},
   "outputs": [
    {
     "data": {
      "text/plain": [
       "\u001b[0;31mType:\u001b[0m           Photoz_linear_sed_basis\n",
       "\u001b[0;31mString form:\u001b[0m    <delight.photoz_kernels.Photoz_linear_sed_basis object at 0x7f6c1d7789d0>\n",
       "\u001b[0;31mFile:\u001b[0m           ~/.local/lib/python3.8/site-packages/delight/photoz_kernels.py\n",
       "\u001b[0;31mDocstring:\u001b[0m     \n",
       "Mean function of photoz GP, based on a library of templates.\n",
       "\n",
       "Args:\n",
       "    f_mod_interp: grid of interpolators of size (num templates, num bands)\n",
       "        called as ``f_mod_interp[it, ib](z)``\n",
       "\u001b[0;31mInit docstring:\u001b[0m Constructor.\n"
      ]
     },
     "metadata": {},
     "output_type": "display_data"
    }
   ],
   "source": [
    "gp.mean_fct?"
   ]
  },
  {
   "cell_type": "code",
   "execution_count": 17,
   "id": "bd892e46",
   "metadata": {},
   "outputs": [],
   "source": [
    "X=np.zeros((numBands,3))\n",
    "X[:,0]=np.arange(numBands)\n",
    "X[:,1]=1.5\n",
    "X[:,2]=1.0"
   ]
  },
  {
   "cell_type": "code",
   "execution_count": 18,
   "id": "d40b2a3d",
   "metadata": {},
   "outputs": [
    {
     "data": {
      "text/plain": [
       "(6, 8)"
      ]
     },
     "execution_count": 18,
     "metadata": {},
     "output_type": "execute_result"
    }
   ],
   "source": [
    "gp.mean_fct.f(X).shape"
   ]
  },
  {
   "cell_type": "code",
   "execution_count": null,
   "id": "06314e0d",
   "metadata": {},
   "outputs": [],
   "source": []
  },
  {
   "cell_type": "code",
   "execution_count": 19,
   "id": "64aa5ab7",
   "metadata": {},
   "outputs": [],
   "source": [
    "all_F=[]\n",
    "all_z=[]\n",
    "for z in np.linspace(0.1,3,50):\n",
    "    X=np.zeros((numBands,3))\n",
    "    X[:,0]=np.arange(numBands)\n",
    "    X[:,1]=z\n",
    "    X[:,2]=1.0\n",
    "    Fluxes=gp.mean_fct.f(X)\n",
    "    all_F.append(Fluxes)\n",
    "    all_z.append(z)\n",
    "    "
   ]
  },
  {
   "cell_type": "code",
   "execution_count": 20,
   "id": "3e5b565c",
   "metadata": {},
   "outputs": [],
   "source": [
    "ib=1\n",
    "it=0\n",
    "F= [ f[ib,it] for f in all_F ]"
   ]
  },
  {
   "cell_type": "code",
   "execution_count": 21,
   "id": "815ff992",
   "metadata": {},
   "outputs": [
    {
     "data": {
      "image/png": "[encoded data removed]",
      "text/plain": [
       "<Figure size 432x288 with 1 Axes>"
      ]
     },
     "metadata": {
      "needs_background": "light"
     },
     "output_type": "display_data"
    }
   ],
   "source": [
    "plt.plot(all_z,F)\n",
    "plt.yscale(\"log\")"
   ]
  },
  {
   "cell_type": "code",
   "execution_count": 22,
   "id": "a38d8cfd",
   "metadata": {},
   "outputs": [
    {
     "data": {
      "text/plain": [
       "\u001b[0;31mType:\u001b[0m           Photoz_kernel\n",
       "\u001b[0;31mString form:\u001b[0m    <delight.photoz_kernels.Photoz_kernel object at 0x7f6c1d778a90>\n",
       "\u001b[0;31mFile:\u001b[0m           ~/.local/lib/python3.8/site-packages/delight/photoz_kernels.py\n",
       "\u001b[0;31mDocstring:\u001b[0m     \n",
       "Photoz kernel based on RBF kernel in SED space.\n",
       "\n",
       "Args:\n",
       "    fcoefs_amp: ``numpy.array`` of size (numBands, numCoefs)\n",
       "        describint the amplitudes of the Gaussians approximating the\n",
       "        photometric filters.\n",
       "    fcoefs_mu: ``numpy.array`` of size (numBands, numCoefs)\n",
       "        describint the positions of the Gaussians approximating the\n",
       "        photometric filters.\n",
       "    fcoefs_sig: ``numpy.array`` of size (numBands, numCoefs)\n",
       "        describint the widths of the Gaussians approximating the\n",
       "        photometric filters.\n",
       "    lines_mu: ``numpy.array`` of SED line positions\n",
       "    lines_sig: ``numpy.array`` of SED line widths\n",
       "    var_C: GP variance for SED continuum correlations.\n",
       "        Should be a ``float`, preferably between 1e-3 and 1e2.\n",
       "    var_L: GP variance for SED line correlations.\n",
       "        Should be a ``float`, preferably between 1e-3 and 1e2.\n",
       "    alpha_C: GP lengthscale for smoothness of SED continuum correlations.\n",
       "        Should be a ``float`, preferably between 1e1 and 1e4.\n",
       "    alpha_L: GP lengthscale for smoothness of SED line correlations.\n",
       "        Should be a ``float`, preferably between 1e1 and 1e4.\n",
       "    lambdaRef (Optional): Pivot space for the SEDs\n",
       "        (``float``, default: ``4.5e3``)\n",
       "    g_AB (Optional): AB photometric normalization constant\n",
       "        (``float``, default: ``1.0``)\n",
       "    DL_z (Optional): function for computing the luminosity distance\n",
       "        as a fct of redshift. Default: an analytic approximation.\n",
       "    redshiftGrid (Optional): redshift grid (array) for computing the GP.\n",
       "        (default: some fine grid.)\n",
       "    use_interpolators (Optional): ``boolean`` indicating if the GP\n",
       "        should be used for all predictions,\n",
       "        or if an interpolation scheme should be used (default: ``True``)\n",
       "\u001b[0;31mInit docstring:\u001b[0m Constructor.\n"
      ]
     },
     "metadata": {},
     "output_type": "display_data"
    }
   ],
   "source": [
    "gp.kernel?"
   ]
  },
  {
   "cell_type": "code",
   "execution_count": 23,
   "id": "cc659edd",
   "metadata": {},
   "outputs": [
    {
     "data": {
      "text/plain": [
       "1.0"
      ]
     },
     "execution_count": 23,
     "metadata": {},
     "output_type": "execute_result"
    }
   ],
   "source": [
    "gp.kernel.g_AB"
   ]
  },
  {
   "cell_type": "code",
   "execution_count": 24,
   "id": "1aa82d7f",
   "metadata": {},
   "outputs": [],
   "source": [
    "X1=np.zeros((numBands,3))\n",
    "X1[:,0]=np.arange(numBands)\n",
    "X1[:,1]=1\n",
    "X1[:,2]=1.0"
   ]
  },
  {
   "cell_type": "code",
   "execution_count": 25,
   "id": "d453102e",
   "metadata": {},
   "outputs": [],
   "source": [
    "X2=np.zeros((numBands,3))\n",
    "X2[:,0]=np.arange(numBands)\n",
    "X2[:,2]=1\n",
    "X2[:,2]=1.0"
   ]
  },
  {
   "cell_type": "code",
   "execution_count": 26,
   "id": "3ffddd9b",
   "metadata": {},
   "outputs": [
    {
     "data": {
      "text/plain": [
       "(6, 6)"
      ]
     },
     "execution_count": 26,
     "metadata": {},
     "output_type": "execute_result"
    }
   ],
   "source": [
    "gp.kernel.K(X1,X2).shape"
   ]
  },
  {
   "cell_type": "code",
   "execution_count": null,
   "id": "2f15f349",
   "metadata": {},
   "outputs": [],
   "source": []
  }
 ],
 "metadata": {
  "kernelspec": {
   "display_name": "anaconda3pbs",
   "language": "python",
   "name": "anaconda3_pbs"
  },
  "language_info": {
   "codemirror_mode": {
    "name": "ipython",
    "version": 3
   },
   "file_extension": ".py",
   "mimetype": "text/x-python",
   "name": "python",
   "nbconvert_exporter": "python",
   "pygments_lexer": "ipython3",
   "version": "3.8.8"
  }
 },
 "nbformat": 4,
 "nbformat_minor": 5
}
